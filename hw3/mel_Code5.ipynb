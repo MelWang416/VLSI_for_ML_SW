{
 "cells": [
  {
   "cell_type": "code",
   "execution_count": 1,
   "id": "electrical-currency",
   "metadata": {},
   "outputs": [
    {
     "name": "stdout",
     "output_type": "stream",
     "text": [
      "learning mean is: tensor([0., 0., 0.])\n",
      "learning var is: tensor([1., 1., 1.])\n",
      "learning mean is: tensor([-0.0297,  0.0171, -0.0101])\n",
      "learning var is: tensor([0.9959, 0.9776, 1.0074])\n",
      "learning mean is: tensor([-0.0297,  0.0171, -0.0101])\n",
      "learning var is: tensor([0.9959, 0.9776, 1.0074])\n"
     ]
    }
   ],
   "source": [
    "import torch\n",
    "import torch.nn as nn\n",
    "import torch.nn.functional as F\n",
    "\n",
    "\n",
    "\n",
    "n_batch = 10    # batch size\n",
    "n_channel = 3\n",
    "momentum = 0.1\n",
    "\n",
    "bn = nn.BatchNorm2d(n_channel, momentum = momentum, affine=False)  ## learnable parameters not used by setting affine = \"False\"\n",
    "\n",
    "print(\"learning mean is:\", bn.running_mean)   # 初始化值 initial value\n",
    "print(\"learning var is:\",  bn.running_var)    # initial value\n",
    "\n",
    "input = torch.randn(n_batch, n_channel, 2, 2)   # (batch size, channel, height, width)  --- a minibatch declaration\n",
    "output = bn(input)\n",
    "\n",
    "print(\"learning mean is:\", bn.running_mean)\n",
    "print(\"learning var is:\",  bn.running_var)\n",
    "\n",
    "bn.eval()  # without bn.eval(), the mean & var will be updated again\n",
    "input_new = torch.randn(n_batch, n_channel, 2, 2)\n",
    "output = bn(input_new)\n",
    "\n",
    "print(\"learning mean is:\", bn.running_mean)\n",
    "print(\"learning var is:\",  bn.running_var)"
   ]
  },
  {
   "cell_type": "code",
   "execution_count": 2,
   "id": "studied-momentum",
   "metadata": {},
   "outputs": [
    {
     "name": "stdout",
     "output_type": "stream",
     "text": [
      "manually calculated mean: tensor(-0.0297)\n",
      "manually calculated mean: tensor(0.0171)\n",
      "manually calculated mean: tensor(-0.0101)\n"
     ]
    }
   ],
   "source": [
    "mean = torch.zeros(n_channel)\n",
    "\n",
    "for ch in range(n_channel):\n",
    "    for batch in range(n_batch):\n",
    "        mean[ch] += (input[batch,ch,0,0] + input[batch,ch,0,1] + input[batch,ch,1,0] + input[batch,ch,1,1])\n",
    "    print(\"manually calculated mean:\", mean[ch]/(n_batch*2*2)*momentum)"
   ]
  },
  {
   "cell_type": "code",
   "execution_count": 7,
   "id": "5146dc3a-2c38-4d05-a509-0ed74d2c3ae2",
   "metadata": {},
   "outputs": [
    {
     "name": "stdout",
     "output_type": "stream",
     "text": [
      "manually calculated var: tensor(0.9935) 0\n",
      "manually calculated var: tensor(0.9757) 1\n",
      "manually calculated var: tensor(1.0047) 2\n"
     ]
    }
   ],
   "source": [
    "var = torch.zeros(n_channel)\n",
    "mean2 = torch.zeros(n_channel)\n",
    "for ch in range(n_channel):\n",
    "    for batch in range(n_batch):\n",
    "        mean2[ch] += (input[batch,ch,0,0] + input[batch,ch,0,1] + input[batch,ch,1,0] + input[batch,ch,1,1])\n",
    "    mean2[ch] = mean2[ch]/(n_batch*2*2)\n",
    "    for batch in range(n_batch):\n",
    "        var[ch] += ( (input[batch,ch,0,0] - mean2[ch] )**2 + (input[batch,ch,0,1] - mean2[ch] )**2 + (input[batch,ch,1,0] - mean2[ch] )**2 + (input[batch,ch,1,1] - mean2[ch] )**2 )\n",
    "    var[ch] = var[ch]/(n_batch*2*2)*momentum + (1-momentum)\n",
    "    print(\"manually calculated var:\", var[ch], ch)"
   ]
  },
  {
   "cell_type": "code",
   "execution_count": null,
   "id": "0fa3508d-aabd-455b-ae78-33a5e131c0bb",
   "metadata": {},
   "outputs": [],
   "source": []
  }
 ],
 "metadata": {
  "kernelspec": {
   "display_name": "Python 3 (ipykernel)",
   "language": "python",
   "name": "python3"
  },
  "language_info": {
   "codemirror_mode": {
    "name": "ipython",
    "version": 3
   },
   "file_extension": ".py",
   "mimetype": "text/x-python",
   "name": "python",
   "nbconvert_exporter": "python",
   "pygments_lexer": "ipython3",
   "version": "3.11.9"
  }
 },
 "nbformat": 4,
 "nbformat_minor": 5
}
